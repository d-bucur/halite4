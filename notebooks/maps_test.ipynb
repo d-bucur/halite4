{
 "cells": [
  {
   "cell_type": "code",
   "execution_count": null,
   "metadata": {},
   "outputs": [],
   "source": [
    "# Set Up Environment\n",
    "%cd ..\n",
    "import pandas as pd\n",
    "import numpy as np\n",
    "import seaborn as sns\n",
    "import time\n",
    "from scipy import ndimage as image\n",
    "from src.coordinates import P\n",
    "%matplotlib inline\n",
    "import matplotlib.pyplot as plt\n",
    "plt.rcParams['figure.figsize'] = [10, 8]\n",
    "# automatically reimport when file has changed NOT working \n",
    "%load_ext autoreload\n",
    "%autoreload 2"
   ]
  },
  {
   "cell_type": "code",
   "execution_count": null,
   "metadata": {},
   "outputs": [],
   "source": [
    "from src.maps import visit_map\n",
    "import math\n",
    "def gaussian(a, b, c, x):\n",
    "    return a * math.e ** (-(x-b)**2/(2*(c**2)))\n",
    "array = np.zeros((20,20))\n",
    "visit_map(array, [P(10,10),P(10,14)], 0, lambda s, x: gaussian(100, 2.2, 1, x))\n",
    "#array = image.gaussian_filter(array, sigma=1.8, mode='wrap')\n",
    "sns.heatmap(array, linewidths=0.5, annot=False, fmt=\"0.0f\")"
   ]
  },
  {
   "cell_type": "code",
   "execution_count": null,
   "metadata": {},
   "outputs": [],
   "source": []
  }
 ],
 "metadata": {
  "kernelspec": {
   "display_name": "Python 3",
   "language": "python",
   "name": "python3"
  },
  "language_info": {
   "codemirror_mode": {
    "name": "ipython",
    "version": 3
   },
   "file_extension": ".py",
   "mimetype": "text/x-python",
   "name": "python",
   "nbconvert_exporter": "python",
   "pygments_lexer": "ipython3",
   "version": "3.7.7"
  }
 },
 "nbformat": 4,
 "nbformat_minor": 4
}
