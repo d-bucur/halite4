{
 "cells": [
  {
   "cell_type": "code",
   "execution_count": null,
   "metadata": {},
   "outputs": [],
   "source": [
    "# Set Up Environment\n",
    "import pandas as pd\n",
    "import numpy as np\n",
    "import seaborn as sns\n",
    "import time\n",
    "from scipy.ndimage import gaussian_filter\n",
    "from kaggle_environments import evaluate, make, FailedPrecondition\n",
    "from kaggle_environments.envs.halite.helpers import Configuration, Board, Observation\n",
    "from src.coordinates import P\n",
    "from src.pathing import PathPlanner\n",
    "%matplotlib inline\n",
    "env = make(\"halite\", configuration={ \"episodeSteps\": 500 }, debug=True)\n",
    "config = Configuration(env.configuration)\n",
    "print (env.configuration)\n",
    "import matplotlib.pyplot as plt\n",
    "plt.rcParams['figure.figsize'] = [10, 8]\n",
    "# automatically reimport when file has changed NOT working \n",
    "%load_ext autoreload\n",
    "%autoreload 2"
   ]
  },
  {
   "cell_type": "code",
   "execution_count": null,
   "metadata": {},
   "outputs": [],
   "source": [
    "planner = PathPlanner(config.size)\n",
    "b = np.zeros((config.size, config.size))\n",
    "def plot_path(start, end, path_id, t=0):\n",
    "    path = planner.reserve_path(start, end, t, path_id)\n",
    "    i = 1\n",
    "    for p in path:\n",
    "        b[p] = i\n",
    "        i += 1\n",
    "    sns.heatmap(b, cmap='Blues', linewidths=0.5, annot=True)"
   ]
  },
  {
   "cell_type": "code",
   "execution_count": null,
   "metadata": {},
   "outputs": [],
   "source": [
    "plot_path(P(10,11), P(12,8), 'a')"
   ]
  },
  {
   "cell_type": "code",
   "execution_count": null,
   "metadata": {},
   "outputs": [],
   "source": [
    "plot_path(P(10,10), P(15,10), 'b')"
   ]
  },
  {
   "cell_type": "code",
   "execution_count": null,
   "metadata": {
    "pycharm": {
     "name": "#%%\n"
    }
   },
   "outputs": [],
   "source": [
    "plot_path(P(14,6), P(14,12), 'c')"
   ]
  },
  {
   "cell_type": "code",
   "execution_count": null,
   "metadata": {
    "pycharm": {
     "name": "#%%\n"
    }
   },
   "outputs": [],
   "source": [
    "planner.remove_path('b')"
   ]
  },
  {
   "cell_type": "code",
   "execution_count": null,
   "metadata": {},
   "outputs": [],
   "source": []
  }
 ],
 "metadata": {
  "kernelspec": {
   "display_name": "Python 3",
   "language": "python",
   "name": "python3"
  },
  "language_info": {
   "codemirror_mode": {
    "name": "ipython",
    "version": 3
   },
   "file_extension": ".py",
   "mimetype": "text/x-python",
   "name": "python",
   "nbconvert_exporter": "python",
   "pygments_lexer": "ipython3",
   "version": "3.7.7"
  }
 },
 "nbformat": 4,
 "nbformat_minor": 4
}
