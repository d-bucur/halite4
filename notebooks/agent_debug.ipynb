{
 "cells": [
  {
   "cell_type": "markdown",
   "metadata": {},
   "source": [
    "# Setup"
   ]
  },
  {
   "cell_type": "code",
   "execution_count": null,
   "metadata": {
    "_cell_guid": "b1076dfc-b9ad-4769-8c92-a6c4dae69d19",
    "_uuid": "8f2839f25d086af736a60e9eeb907d3b93b6e0e5"
   },
   "outputs": [],
   "source": [
    "# Set Up Environment\n",
    "%cd ..\n",
    "import pandas as pd\n",
    "import numpy as np\n",
    "import seaborn as sns\n",
    "import time\n",
    "from scipy.ndimage import gaussian_filter\n",
    "from kaggle_environments import evaluate, make, FailedPrecondition\n",
    "from kaggle_environments.envs.halite.helpers import Configuration, Board, Observation\n",
    "from src.coordinates import P\n",
    "from src.gamestate import GameState\n",
    "from pprint import pprint\n",
    "import logging\n",
    "%matplotlib inline\n",
    "env = make(\"halite\", configuration={ \"episodeSteps\": 400 }, debug=True)\n",
    "config = Configuration(env.configuration)\n",
    "print (env.configuration)\n",
    "import matplotlib.pyplot as plt\n",
    "plt.rcParams['figure.figsize'] = [10, 8]\n",
    "# automatically reimport when file has changed NOT working \n",
    "%load_ext autoreload\n",
    "%autoreload 2"
   ]
  },
  {
   "cell_type": "markdown",
   "metadata": {},
   "source": [
    "# Import agent"
   ]
  },
  {
   "cell_type": "code",
   "execution_count": null,
   "metadata": {
    "_cell_guid": "79c7e3d0-c299-4dcb-8224-4455121ee9b0",
    "_uuid": "d629ff2d2480ee46fbb7e2d37f6b5fab8052498a"
   },
   "outputs": [],
   "source": [
    "from submission import agent, c\n",
    "import submission\n",
    "from src.gamestate import GameState"
   ]
  },
  {
   "cell_type": "markdown",
   "metadata": {},
   "source": [
    "# Step by step debug"
   ]
  },
  {
   "cell_type": "code",
   "execution_count": null,
   "metadata": {},
   "outputs": [],
   "source": [
    "logging.getLogger().setLevel(logging.INFO)\n",
    "def debug_state(my_action, start_time=None):\n",
    "    from pprint import pformat\n",
    "    print(f\"turn {GameState.board.step}\")\n",
    "    print(\"----action :\", pformat(my_action))\n",
    "    print(f\"reserved {c().planner._reserved}\")\n",
    "    #print(\"----positons:\")\n",
    "    #for s in GameState.board.current_player.ships:\n",
    "    #    print(s.id, s.position.norm)\n",
    "    if start_time:\n",
    "        print(f\"Execution time: {(time.time() - start_time) / num_steps} seconds\")"
   ]
  },
  {
   "cell_type": "code",
   "execution_count": null,
   "metadata": {},
   "outputs": [],
   "source": [
    "# reset game\n",
    "submission.commander = None\n",
    "trainer = env.train([None, \"submission.py\"])\n",
    "observation = trainer.reset()\n",
    "my_action = agent(observation, env.configuration)"
   ]
  },
  {
   "cell_type": "code",
   "execution_count": null,
   "metadata": {
    "scrolled": false
   },
   "outputs": [],
   "source": [
    "# step\n",
    "start_time = time.time()\n",
    "num_steps = 1\n",
    "try:\n",
    "    for i in range(num_steps):\n",
    "        observation, reward, done, info = trainer.step(my_action)\n",
    "        my_action = agent(observation, env.configuration)\n",
    "except FailedPrecondition:\n",
    "    pass\n",
    "env.render(mode=\"ipython\", header=True, controls=True, width=650, height=550)\n",
    "debug_state(my_action, start_time)"
   ]
  },
  {
   "cell_type": "code",
   "execution_count": null,
   "metadata": {},
   "outputs": [],
   "source": [
    "sns.heatmap(c().strategy.mine_halite.array, cmap='Blues', linewidths=0.5, annot=True, fmt=\"0.0f\")"
   ]
  },
  {
   "cell_type": "code",
   "execution_count": null,
   "metadata": {},
   "outputs": [],
   "source": [
    "sns.heatmap(c().strategy.mine_halite_longterm.array, cmap='Blues', linewidths=0.5, annot=True, fmt=\"0.0f\")"
   ]
  },
  {
   "cell_type": "code",
   "execution_count": null,
   "metadata": {},
   "outputs": [],
   "source": [
    "sns.heatmap(c().strategy.expand.array, cmap='Blues', linewidths=0.5, annot=True, fmt=\"0.0f\")"
   ]
  },
  {
   "cell_type": "code",
   "execution_count": null,
   "metadata": {},
   "outputs": [],
   "source": [
    "#sns.heatmap(c().strategy.avoid_enemies.array, cmap='Reds_r', linewidths=0.5, annot=True, fmt=\"0.0f\")"
   ]
  },
  {
   "cell_type": "code",
   "execution_count": null,
   "metadata": {},
   "outputs": [],
   "source": [
    "#sns.heatmap(c().strategy.friendly_bases.array, cmap='Blues', linewidths=0.5, annot=True, fmt=\"0.0f\")"
   ]
  },
  {
   "cell_type": "code",
   "execution_count": null,
   "metadata": {},
   "outputs": [],
   "source": [
    "sns.heatmap(c().strategy.return_halite.array, cmap='ocean', linewidths=0.5, annot=True, fmt=\"0.0f\")"
   ]
  },
  {
   "cell_type": "code",
   "execution_count": null,
   "metadata": {},
   "outputs": [],
   "source": [
    "sns.heatmap(c().strategy.avoid_friendlies_dict['37-1'].array, cmap='Oranges_r', linewidths=0.5, annot=True, fmt=\"0.0f\")"
   ]
  },
  {
   "cell_type": "code",
   "execution_count": null,
   "metadata": {},
   "outputs": [],
   "source": [
    "sns.heatmap(c().strategy.mine_halite.flow[0], linewidths=0.5, annot=True, fmt=\"0.0f\")"
   ]
  },
  {
   "cell_type": "markdown",
   "metadata": {},
   "source": [
    "# Manual input"
   ]
  },
  {
   "cell_type": "code",
   "execution_count": null,
   "metadata": {},
   "outputs": [],
   "source": [
    "my_action = {\n",
    "    #'5-1': 'SPAWN',\n",
    "    '8-1': 'NORTH',\n",
    "    '9-1': 'SOUTH',\n",
    "}\n",
    "observation, reward, done, info = trainer.step(my_action)\n",
    "pprint(observation['players'])\n"
   ]
  }
 ],
 "metadata": {
  "kernelspec": {
   "display_name": "Python 3",
   "language": "python",
   "name": "python3"
  },
  "language_info": {
   "codemirror_mode": {
    "name": "ipython",
    "version": 3
   },
   "file_extension": ".py",
   "mimetype": "text/x-python",
   "name": "python",
   "nbconvert_exporter": "python",
   "pygments_lexer": "ipython3",
   "version": "3.7.7"
  }
 },
 "nbformat": 4,
 "nbformat_minor": 4
}
