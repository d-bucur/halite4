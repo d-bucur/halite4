{
 "cells": [
  {
   "cell_type": "markdown",
   "metadata": {},
   "source": [
    "# Setup"
   ]
  },
  {
   "cell_type": "code",
   "execution_count": null,
   "metadata": {
    "_cell_guid": "b1076dfc-b9ad-4769-8c92-a6c4dae69d19",
    "_uuid": "8f2839f25d086af736a60e9eeb907d3b93b6e0e5"
   },
   "outputs": [],
   "source": [
    "# Set Up Environment\n",
    "import pandas as pd\n",
    "import numpy as np\n",
    "import seaborn as sns\n",
    "from scipy.ndimage import gaussian_filter\n",
    "from kaggle_environments import evaluate, make\n",
    "from kaggle_environments.envs.halite.helpers import *\n",
    "%matplotlib inline\n",
    "env = make(\"halite\", configuration={ \"episodeSteps\": 500 }, debug=True)\n",
    "config = Configuration(env.configuration)\n",
    "print (env.configuration)\n",
    "import matplotlib.pyplot as plt\n",
    "plt.rcParams['figure.figsize'] = [10, 8]\n",
    "# automatically reimport when file has changed NOT working \n",
    "%load_ext autoreload\n",
    "%autoreload 2\n",
    "# Monekypatch coordinates system (will break rest of simulation)\n",
    "#Point.to_index = lambda self, size: self.y * size + self.x\n",
    "#Point.from_index = lambda index, size: Point(*divmod(index, size))"
   ]
  },
  {
   "cell_type": "markdown",
   "metadata": {},
   "source": [
    "# Import agent"
   ]
  },
  {
   "cell_type": "code",
   "execution_count": null,
   "metadata": {
    "_cell_guid": "79c7e3d0-c299-4dcb-8224-4455121ee9b0",
    "_uuid": "d629ff2d2480ee46fbb7e2d37f6b5fab8052498a"
   },
   "outputs": [],
   "source": [
    "from submission import agent, internals"
   ]
  },
  {
   "cell_type": "markdown",
   "metadata": {},
   "source": [
    "# Step by step debug"
   ]
  },
  {
   "cell_type": "code",
   "execution_count": null,
   "metadata": {},
   "outputs": [],
   "source": [
    "# reset game\n",
    "trainer = env.train([None, \"random\"])\n",
    "observation = trainer.reset()\n",
    "my_action = agent(observation, env.configuration)"
   ]
  },
  {
   "cell_type": "code",
   "execution_count": null,
   "metadata": {},
   "outputs": [],
   "source": [
    "# action\n",
    "my_action = agent(observation, env.configuration)\n",
    "board = Board(observation, env.configuration)\n",
    "obs = Observation(observation)\n",
    "print(\"orders: \", internals().orders)\n",
    "print(\"action :\", my_action)"
   ]
  },
  {
   "cell_type": "code",
   "execution_count": null,
   "metadata": {},
   "outputs": [],
   "source": [
    "# step\n",
    "observation, reward, done, info = trainer.step(my_action)\n",
    "env.render(mode=\"ipython\", header=True, controls=True, width=550, height=500)"
   ]
  },
  {
   "cell_type": "code",
   "execution_count": null,
   "metadata": {},
   "outputs": [],
   "source": [
    "#sns.heatmap(internals().threat_map, cmap='Reds_r', linewidths=0.5, annot=False)\n",
    "#sns.heatmap(internals().halite_map, cmap='Blues', linewidths=0.5, annot=False)\n",
    "sns.heatmap(internals().reward_map, cmap='RdYlGn', linewidths=0.5, annot=False)\n",
    "#pd.DataFrame(internals().threat_map).style.background_gradient(cmap='Reds_r').format('{:03,.0f}')"
   ]
  },
  {
   "cell_type": "markdown",
   "metadata": {},
   "source": [
    "# Run a game"
   ]
  },
  {
   "cell_type": "code",
   "execution_count": null,
   "metadata": {},
   "outputs": [],
   "source": [
    "env.run([\"submission.py\", \"submission.py\", \"submission.py\", \"submission.py\"])\n",
    "env.render(mode=\"ipython\", width=800, height=600)"
   ]
  }
 ],
 "metadata": {
  "kernelspec": {
   "display_name": "Python 3",
   "language": "python",
   "name": "python3"
  },
  "language_info": {
   "codemirror_mode": {
    "name": "ipython",
    "version": 3
   },
   "file_extension": ".py",
   "mimetype": "text/x-python",
   "name": "python",
   "nbconvert_exporter": "python",
   "pygments_lexer": "ipython3",
   "version": "3.7.7"
  }
 },
 "nbformat": 4,
 "nbformat_minor": 4
}
