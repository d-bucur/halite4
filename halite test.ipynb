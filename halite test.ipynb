{
 "cells": [
  {
   "cell_type": "markdown",
   "metadata": {},
   "source": [
    "# Setup"
   ]
  },
  {
   "cell_type": "code",
   "execution_count": null,
   "metadata": {
    "_cell_guid": "b1076dfc-b9ad-4769-8c92-a6c4dae69d19",
    "_uuid": "8f2839f25d086af736a60e9eeb907d3b93b6e0e5"
   },
   "outputs": [],
   "source": [
    "# Set Up Environment\n",
    "import pandas as pd\n",
    "import numpy as np\n",
    "import seaborn as sns\n",
    "import time\n",
    "from scipy.ndimage import gaussian_filter\n",
    "from kaggle_environments import evaluate, make, FailedPrecondition\n",
    "from kaggle_environments.envs.halite.helpers import Configuration, Board, Observation\n",
    "from src.coordinates import PointAlt\n",
    "from src.orders import ShipOrder, BuildShipyardOrder, HarvestOrder\n",
    "from src.gamestate import GameState\n",
    "%matplotlib inline\n",
    "env = make(\"halite\", configuration={ \"episodeSteps\": 500 }, debug=True)\n",
    "config = Configuration(env.configuration)\n",
    "print (env.configuration)\n",
    "import matplotlib.pyplot as plt\n",
    "plt.rcParams['figure.figsize'] = [10, 8]\n",
    "# automatically reimport when file has changed NOT working \n",
    "%load_ext autoreload\n",
    "%autoreload 2"
   ]
  },
  {
   "cell_type": "markdown",
   "metadata": {},
   "source": [
    "# Import agent"
   ]
  },
  {
   "cell_type": "code",
   "execution_count": null,
   "metadata": {
    "_cell_guid": "79c7e3d0-c299-4dcb-8224-4455121ee9b0",
    "_uuid": "d629ff2d2480ee46fbb7e2d37f6b5fab8052498a"
   },
   "outputs": [],
   "source": [
    "from submission import agent\n",
    "import submission"
   ]
  },
  {
   "cell_type": "markdown",
   "metadata": {},
   "source": [
    "# Step by step debug"
   ]
  },
  {
   "cell_type": "code",
   "execution_count": null,
   "metadata": {},
   "outputs": [],
   "source": [
    "# reset game\n",
    "submission.commander = None\n",
    "trainer = env.train([None, \"random\"])\n",
    "observation = trainer.reset()\n",
    "my_action = agent(observation, env.configuration)\n",
    "print(\"action :\", my_action)\n",
    "print(\"Plans per id: \", GameState.planner.plan_x_id)\n",
    "print(\"Planning\", GameState.planner.planning)"
   ]
  },
  {
   "cell_type": "code",
   "execution_count": null,
   "metadata": {},
   "outputs": [],
   "source": [
    "print(f\"turn {GameState.board.step}\")\n",
    "print(\"----orders: \", submission.commander.orders)\n",
    "print(\"----action :\", my_action)\n",
    "print(\"----Plans per id: \", GameState.planner.plan_x_id)\n",
    "print(\"----Planning\", GameState.planner.planning)\n",
    "print(\"----positons:\")\n",
    "for s in GameState.board.current_player.ships:\n",
    "    print(s.id, s.position.norm)"
   ]
  },
  {
   "cell_type": "code",
   "execution_count": null,
   "metadata": {},
   "outputs": [],
   "source": [
    "# step\n",
    "start_time = time.time()\n",
    "num_steps = 1\n",
    "try:\n",
    "    for i in range(num_steps):\n",
    "        observation, reward, done, info = trainer.step(my_action)\n",
    "        my_action = agent(observation, env.configuration)\n",
    "except FailedPrecondition:\n",
    "    pass\n",
    "    \n",
    "env.render(mode=\"ipython\", header=True, controls=True, width=650, height=550)\n",
    "board = GameState.board\n",
    "print(\"orders: \", submission.commander.orders)\n",
    "print(\"action :\", my_action)\n",
    "print(\"positons:\")\n",
    "for s in board.current_player.ships:\n",
    "    print(s.id, s.position.norm)\n",
    "#print(\"harvesters_x_base: \", submission.commander.harvesters_x_base)\n",
    "print(f\"Execution time: {(time.time() - start_time) / num_steps} seconds\")"
   ]
  },
  {
   "cell_type": "code",
   "execution_count": null,
   "metadata": {},
   "outputs": [],
   "source": [
    "board.current_player.ship_ids"
   ]
  },
  {
   "cell_type": "code",
   "execution_count": null,
   "metadata": {},
   "outputs": [],
   "source": [
    "#sns.heatmap(submission.commander.threat_map, cmap='Reds_r', linewidths=0.5, annot=False)\n",
    "sns.heatmap(submission.commander.expansion_map, cmap='Blues', linewidths=0.5, annot=False)\n",
    "#sns.heatmap(submission.commander.objectives_map, cmap='Reds_r', linewidths=0.5, annot=False)\n",
    "#sns.heatmap(submission.commander.reward_map, cmap='RdYlGn', linewidths=0.5, annot=False)\n",
    "#pd.DataFrame(submission.commander.threat_map).style.background_gradient(cmap='Reds_r').format('{:03,.0f}')"
   ]
  },
  {
   "cell_type": "markdown",
   "metadata": {},
   "source": [
    "# Manual input"
   ]
  },
  {
   "cell_type": "code",
   "execution_count": null,
   "metadata": {},
   "outputs": [],
   "source": [
    "my_action = {\n",
    "    '0-1': 'WEST',\n",
    "}\n",
    "observation, reward, done, info = trainer.step(my_action)\n",
    "env.render(mode=\"ipython\", header=True, controls=True, width=650, height=550)"
   ]
  },
  {
   "cell_type": "code",
   "execution_count": null,
   "metadata": {},
   "outputs": [],
   "source": [
    "ship = GameState.board.current_player.ships[0]\n",
    "target = PointAlt(10, 19)"
   ]
  },
  {
   "cell_type": "code",
   "execution_count": null,
   "metadata": {},
   "outputs": [],
   "source": [
    "submission.commander.orders[ship.id] = BuildShipyardOrder(ship, target)"
   ]
  },
  {
   "cell_type": "markdown",
   "metadata": {},
   "source": [
    "# Run a game"
   ]
  },
  {
   "cell_type": "code",
   "execution_count": null,
   "metadata": {},
   "outputs": [],
   "source": [
    "env.run([agent, \"submission.py\"])\n",
    "env.render(mode=\"ipython\", width=800, height=600)"
   ]
  }
 ],
 "metadata": {
  "kernelspec": {
   "display_name": "Python 3",
   "language": "python",
   "name": "python3"
  },
  "language_info": {
   "codemirror_mode": {
    "name": "ipython",
    "version": 3
   },
   "file_extension": ".py",
   "mimetype": "text/x-python",
   "name": "python",
   "nbconvert_exporter": "python",
   "pygments_lexer": "ipython3",
   "version": "3.7.7"
  }
 },
 "nbformat": 4,
 "nbformat_minor": 4
}
